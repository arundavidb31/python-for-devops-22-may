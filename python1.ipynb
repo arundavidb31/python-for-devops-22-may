{
  "nbformat": 4,
  "nbformat_minor": 0,
  "metadata": {
    "colab": {
      "name": "python1.ipynb",
      "provenance": [],
      "include_colab_link": true
    },
    "kernelspec": {
      "name": "python3",
      "display_name": "Python 3"
    },
    "language_info": {
      "name": "python"
    }
  },
  "cells": [
    {
      "cell_type": "markdown",
      "metadata": {
        "id": "view-in-github",
        "colab_type": "text"
      },
      "source": [
        "<a href=\"https://colab.research.google.com/github/arundavidb31/python-for-devops-22-may/blob/main/python1.ipynb\" target=\"_parent\"><img src=\"https://colab.research.google.com/assets/colab-badge.svg\" alt=\"Open In Colab\"/></a>"
      ]
    },
    {
      "cell_type": "code",
      "execution_count": null,
      "metadata": {
        "id": "dER0KGtU1vXf"
      },
      "outputs": [],
      "source": [
        ""
      ]
    },
    {
      "cell_type": "markdown",
      "source": [
        "##introduction to python"
      ],
      "metadata": {
        "id": "n184FQu65uEs"
      }
    },
    {
      "cell_type": "markdown",
      "source": [
        ""
      ],
      "metadata": {
        "id": "T__8eh1l6ZUT"
      }
    },
    {
      "cell_type": "code",
      "source": [
        "name = \"bb\"\n",
        "print(f\"helllo{name}\")\n",
        "\n"
      ],
      "metadata": {
        "id": "_ibtyy_K6bWQ",
        "outputId": "973f8c55-ac93-498f-966a-3d1b72d1f4c0",
        "colab": {
          "base_uri": "https://localhost:8080/"
        }
      },
      "execution_count": 16,
      "outputs": [
        {
          "output_type": "stream",
          "name": "stdout",
          "text": [
            "helllobb\n"
          ]
        }
      ]
    },
    {
      "cell_type": "code",
      "source": [
        "fruit = [\"a\",\"v\"]\n",
        "type(fruit)\n",
        "fruit[0]\n"
      ],
      "metadata": {
        "id": "YDXI2Ep06zPJ",
        "outputId": "b639c4bb-934d-4000-e135-4d392dea3c46",
        "colab": {
          "base_uri": "https://localhost:8080/",
          "height": 35
        }
      },
      "execution_count": 20,
      "outputs": [
        {
          "output_type": "execute_result",
          "data": {
            "text/plain": [
              "'a'"
            ],
            "application/vnd.google.colaboratory.intrinsic+json": {
              "type": "string"
            }
          },
          "metadata": {},
          "execution_count": 20
        }
      ]
    },
    {
      "cell_type": "markdown",
      "source": [
        "Dictonaries"
      ],
      "metadata": {
        "id": "KAtxeL8a6wBh"
      }
    },
    {
      "cell_type": "code",
      "source": [
        "meal = {\"bf\":\"dosa\",\"lun\":\"rice\"}"
      ],
      "metadata": {
        "id": "w3y9WTnt9HrE"
      },
      "execution_count": null,
      "outputs": []
    },
    {
      "cell_type": "code",
      "source": [
        "meal.keys()"
      ],
      "metadata": {
        "id": "VmhuZ4gH9RcR",
        "outputId": "9b147876-c160-4941-d17d-6e227a933793",
        "colab": {
          "base_uri": "https://localhost:8080/"
        }
      },
      "execution_count": 23,
      "outputs": [
        {
          "output_type": "execute_result",
          "data": {
            "text/plain": [
              "dict_keys(['bf', 'lu'])"
            ]
          },
          "metadata": {},
          "execution_count": 23
        }
      ]
    },
    {
      "cell_type": "code",
      "source": [
        "meal.values()"
      ],
      "metadata": {
        "id": "L_6K0EoE9eLn",
        "outputId": "45244b32-6454-4712-9cee-94a904e150f1",
        "colab": {
          "base_uri": "https://localhost:8080/"
        }
      },
      "execution_count": 24,
      "outputs": [
        {
          "output_type": "execute_result",
          "data": {
            "text/plain": [
              "dict_values(['dosa', 'sal'])"
            ]
          },
          "metadata": {},
          "execution_count": 24
        }
      ]
    },
    {
      "cell_type": "code",
      "source": [
        "for m,item in meal.items():\n",
        "  print(f\"m and {m}:{item}\")"
      ],
      "metadata": {
        "id": "zPCbKHzi9l52",
        "outputId": "9bdc2b46-22be-438b-e05a-2ef6257fbbf3",
        "colab": {
          "base_uri": "https://localhost:8080/"
        }
      },
      "execution_count": 25,
      "outputs": [
        {
          "output_type": "stream",
          "name": "stdout",
          "text": [
            "m and bf:dosa\n",
            "m and lu:sal\n"
          ]
        }
      ]
    },
    {
      "cell_type": "markdown",
      "source": [
        "# New Section"
      ],
      "metadata": {
        "id": "JKTUp3RH99ts"
      }
    }
  ]
}